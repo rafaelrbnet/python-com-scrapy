{
 "cells": [
  {
   "cell_type": "code",
   "execution_count": 7,
   "metadata": {
    "collapsed": true
   },
   "outputs": [],
   "source": [
    "import random\n",
    "import statistics"
   ]
  },
  {
   "cell_type": "code",
   "execution_count": 8,
   "metadata": {
    "collapsed": true
   },
   "outputs": [],
   "source": [
    "def gerar_numeros(faces):\n",
    "    dados = input(\"Digite o número de dados: \")\n",
    "    dados = int(dados)\n",
    "    numeros = []\n",
    "    for i in range(dados):\n",
    "        numero = random.randint(1, faces)\n",
    "        numeros.append(numero)\n",
    "        print(\"Seu número é: %s\" % numero)\n",
    "    print('A soma é: %s' % sum(numeros))\n",
    "    print('O valor máximo é: %s' % max(numeros))\n",
    "    print('O valor mínimo é: %s' % min(numeros))\n",
    "    print('A média é: %s' % statistics.mean(numeros))"
   ]
  },
  {
   "cell_type": "code",
   "execution_count": 9,
   "metadata": {
    "collapsed": false
   },
   "outputs": [
    {
     "name": "stdout",
     "output_type": "stream",
     "text": [
      "Digite um número de faces (ou 'parar' para acabar o programa): 6\n",
      "Digite o número de dados: 4\n",
      "Seu número é: 4\n",
      "Seu número é: 1\n",
      "Seu número é: 4\n",
      "Seu número é: 6\n",
      "A soma é: 15\n",
      "O valor máximo é: 6\n",
      "O valor mínimo é: 1\n",
      "A média é: 3.75\n",
      "Digite um número de faces (ou 'parar' para acabar o programa): 10\n",
      "Digite o número de dados: 2\n",
      "Seu número é: 2\n",
      "Seu número é: 8\n",
      "A soma é: 10\n",
      "O valor máximo é: 8\n",
      "O valor mínimo é: 2\n",
      "A média é: 5.0\n",
      "Digite um número de faces (ou 'parar' para acabar o programa): parar\n",
      "Finalizou o programa\n"
     ]
    }
   ],
   "source": [
    "continua = True\n",
    "while continua:\n",
    "    faces = input(\"Digite um número de faces (ou 'parar' para acabar o programa): \")\n",
    "    if faces == \"parar\":\n",
    "        continua = False\n",
    "    else:\n",
    "        faces = int(faces)\n",
    "        gerar_numeros(faces)\n",
    "print(\"Finalizou o programa\")"
   ]
  },
  {
   "cell_type": "code",
   "execution_count": null,
   "metadata": {
    "collapsed": true
   },
   "outputs": [],
   "source": []
  }
 ],
 "metadata": {
  "kernelspec": {
   "display_name": "Python 3",
   "language": "python",
   "name": "python3"
  },
  "language_info": {
   "codemirror_mode": {
    "name": "ipython",
    "version": 3
   },
   "file_extension": ".py",
   "mimetype": "text/x-python",
   "name": "python",
   "nbconvert_exporter": "python",
   "pygments_lexer": "ipython3",
   "version": "3.5.1"
  }
 },
 "nbformat": 4,
 "nbformat_minor": 1
}
