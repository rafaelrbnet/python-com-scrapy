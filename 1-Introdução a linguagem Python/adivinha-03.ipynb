{
 "cells": [
  {
   "cell_type": "code",
   "execution_count": 9,
   "metadata": {
    "collapsed": false
   },
   "outputs": [
    {
     "name": "stdout",
     "output_type": "stream",
     "text": [
      "Digite um número (1 a 100): 70\n"
     ]
    }
   ],
   "source": [
    "numero = 50\n",
    "chute = input(\"Digite um número (1 a 100): \")\n",
    "chute = int(chute)"
   ]
  },
  {
   "cell_type": "code",
   "execution_count": 10,
   "metadata": {
    "collapsed": false
   },
   "outputs": [
    {
     "name": "stdout",
     "output_type": "stream",
     "text": [
      "Você errou, o valor é menor (está frio)\n"
     ]
    }
   ],
   "source": [
    "diferenca = numero - chute\n",
    "if diferenca == 0:\n",
    "    print(\"Você acertou!\")\n",
    "elif diferenca > 0:\n",
    "    if diferenca <= 10:\n",
    "        print(\"Você errou, o valor é maior (está quente)\")\n",
    "    else:\n",
    "        print(\"Você errou, o valor é maior (está frio)\")\n",
    "else:\n",
    "    if abs(diferenca) <= 10:\n",
    "        print(\"Você errou, o valor é menor (está quente)\")\n",
    "    else:\n",
    "        print(\"Você errou, o valor é menor (está frio)\")"
   ]
  },
  {
   "cell_type": "code",
   "execution_count": 3,
   "metadata": {
    "collapsed": false
   },
   "outputs": [
    {
     "data": {
      "text/plain": [
       "10"
      ]
     },
     "execution_count": 3,
     "metadata": {},
     "output_type": "execute_result"
    }
   ],
   "source": [
    "abs(-10)"
   ]
  },
  {
   "cell_type": "code",
   "execution_count": 4,
   "metadata": {
    "collapsed": false
   },
   "outputs": [
    {
     "data": {
      "text/plain": [
       "10"
      ]
     },
     "execution_count": 4,
     "metadata": {},
     "output_type": "execute_result"
    }
   ],
   "source": [
    "abs(10)"
   ]
  },
  {
   "cell_type": "code",
   "execution_count": null,
   "metadata": {
    "collapsed": true
   },
   "outputs": [],
   "source": []
  }
 ],
 "metadata": {
  "kernelspec": {
   "display_name": "Python 3",
   "language": "python",
   "name": "python3"
  },
  "language_info": {
   "codemirror_mode": {
    "name": "ipython",
    "version": 3
   },
   "file_extension": ".py",
   "mimetype": "text/x-python",
   "name": "python",
   "nbconvert_exporter": "python",
   "pygments_lexer": "ipython3",
   "version": "3.5.1"
  }
 },
 "nbformat": 4,
 "nbformat_minor": 1
}
