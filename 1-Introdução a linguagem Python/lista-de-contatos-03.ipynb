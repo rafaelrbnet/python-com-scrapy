{
 "cells": [
  {
   "cell_type": "code",
   "execution_count": 1,
   "metadata": {
    "collapsed": true
   },
   "outputs": [],
   "source": [
    "def criar_contato():\n",
    "    print(\"Digite as informações do contato\")\n",
    "    nome = input(\"Nome: \")\n",
    "    email = input(\"E-mail: \")\n",
    "    telefone = input(\"Telefone: \")\n",
    "    return nome, email, telefone"
   ]
  },
  {
   "cell_type": "code",
   "execution_count": 2,
   "metadata": {
    "collapsed": true
   },
   "outputs": [],
   "source": [
    "def salvar_contato(nome, email, telefone):\n",
    "    arquivo = open('contatos.csv', 'w')\n",
    "    arquivo.write('%s,%s,%s' % (nome, email, telefone))\n",
    "    arquivo.flush()\n",
    "    arquivo.close()"
   ]
  },
  {
   "cell_type": "code",
   "execution_count": 4,
   "metadata": {
    "collapsed": false
   },
   "outputs": [
    {
     "name": "stdout",
     "output_type": "stream",
     "text": [
      "Digite as informações do contato\n",
      "Nome: Fulano\n",
      "E-mail: f@f.com\n",
      "Telefone: 00000000\n"
     ]
    }
   ],
   "source": [
    "n, e, t = criar_contato()"
   ]
  },
  {
   "cell_type": "code",
   "execution_count": 5,
   "metadata": {
    "collapsed": true
   },
   "outputs": [],
   "source": [
    "salvar_contato(telefone=t, nome=n, email=e)"
   ]
  },
  {
   "cell_type": "code",
   "execution_count": 6,
   "metadata": {
    "collapsed": false
   },
   "outputs": [
    {
     "name": "stdout",
     "output_type": "stream",
     "text": [
      "Digite as informações do contato\n",
      "Nome: sicrano\n",
      "E-mail: s@s.com\n",
      "Telefone: 999999999\n"
     ]
    }
   ],
   "source": [
    "n, e, t = criar_contato()"
   ]
  },
  {
   "cell_type": "code",
   "execution_count": 7,
   "metadata": {
    "collapsed": true
   },
   "outputs": [],
   "source": [
    "salvar_contato(telefone=t, nome=n, email=e)"
   ]
  },
  {
   "cell_type": "code",
   "execution_count": 8,
   "metadata": {
    "collapsed": true
   },
   "outputs": [],
   "source": [
    "def salvar_contato(nome, email, telefone):\n",
    "    arquivo = open('contatos.csv', 'a')\n",
    "    arquivo.write('%s,%s,%s\\n' % (nome, email, telefone))\n",
    "    arquivo.flush()\n",
    "    arquivo.close()"
   ]
  },
  {
   "cell_type": "code",
   "execution_count": 9,
   "metadata": {
    "collapsed": false
   },
   "outputs": [
    {
     "name": "stdout",
     "output_type": "stream",
     "text": [
      "Digite as informações do contato\n",
      "Nome: fulano\n",
      "E-mail: f@f.com\n",
      "Telefone: 1111111\n"
     ]
    }
   ],
   "source": [
    "n, e, t = criar_contato()"
   ]
  },
  {
   "cell_type": "code",
   "execution_count": 10,
   "metadata": {
    "collapsed": true
   },
   "outputs": [],
   "source": [
    "salvar_contato(n, e, t)"
   ]
  },
  {
   "cell_type": "code",
   "execution_count": null,
   "metadata": {
    "collapsed": true
   },
   "outputs": [],
   "source": []
  }
 ],
 "metadata": {
  "kernelspec": {
   "display_name": "Python 3",
   "language": "python",
   "name": "python3"
  },
  "language_info": {
   "codemirror_mode": {
    "name": "ipython",
    "version": 3
   },
   "file_extension": ".py",
   "mimetype": "text/x-python",
   "name": "python",
   "nbconvert_exporter": "python",
   "pygments_lexer": "ipython3",
   "version": "3.5.1"
  }
 },
 "nbformat": 4,
 "nbformat_minor": 1
}
