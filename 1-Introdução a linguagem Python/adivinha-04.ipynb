{
 "cells": [
  {
   "cell_type": "code",
   "execution_count": 1,
   "metadata": {
    "collapsed": false
   },
   "outputs": [],
   "source": [
    "numero = 50"
   ]
  },
  {
   "cell_type": "code",
   "execution_count": 3,
   "metadata": {
    "collapsed": false
   },
   "outputs": [
    {
     "name": "stdout",
     "output_type": "stream",
     "text": [
      "Digite um número (1 a 100): 40\n",
      "Você errou, o valor é maior (está quente)\n",
      "Digite um número (1 a 100): 50\n",
      "Você acertou!\n"
     ]
    }
   ],
   "source": [
    "contador = 0\n",
    "while contador < 5:\n",
    "    chute = input(\"Digite um número (1 a 100): \")\n",
    "    chute = int(chute)\n",
    "    diferenca = numero - chute\n",
    "    if diferenca == 0:\n",
    "        print(\"Você acertou!\")\n",
    "        break\n",
    "    elif diferenca > 0:\n",
    "        if diferenca <= 10:\n",
    "            print(\"Você errou, o valor é maior (está quente)\")\n",
    "        else:\n",
    "            print(\"Você errou, o valor é maior (está frio)\")\n",
    "    else:\n",
    "        if abs(diferenca) <= 10:\n",
    "            print(\"Você errou, o valor é menor (está quente)\")\n",
    "        else:\n",
    "            print(\"Você errou, o valor é menor (está frio)\")\n",
    "    contador = contador + 1"
   ]
  },
  {
   "cell_type": "code",
   "execution_count": null,
   "metadata": {
    "collapsed": false
   },
   "outputs": [],
   "source": [
    "contador = 0\n",
    "while contador < 5:\n",
    "    print(contador)\n",
    "    contador = contador + 1\n",
    "print('Acabou')"
   ]
  },
  {
   "cell_type": "code",
   "execution_count": null,
   "metadata": {
    "collapsed": true
   },
   "outputs": [],
   "source": []
  }
 ],
 "metadata": {
  "kernelspec": {
   "display_name": "Python 3",
   "language": "python",
   "name": "python3"
  },
  "language_info": {
   "codemirror_mode": {
    "name": "ipython",
    "version": 3
   },
   "file_extension": ".py",
   "mimetype": "text/x-python",
   "name": "python",
   "nbconvert_exporter": "python",
   "pygments_lexer": "ipython3",
   "version": "3.5.1"
  }
 },
 "nbformat": 4,
 "nbformat_minor": 1
}
