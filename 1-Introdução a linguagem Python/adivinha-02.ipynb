{
 "cells": [
  {
   "cell_type": "code",
   "execution_count": 10,
   "metadata": {
    "collapsed": false
   },
   "outputs": [
    {
     "name": "stdout",
     "output_type": "stream",
     "text": [
      "Digite um número: 11\n"
     ]
    }
   ],
   "source": [
    "numero = 10\n",
    "chute = input(\"Digite um número: \")\n",
    "chute = int(chute)"
   ]
  },
  {
   "cell_type": "code",
   "execution_count": 6,
   "metadata": {
    "collapsed": false
   },
   "outputs": [
    {
     "name": "stdout",
     "output_type": "stream",
     "text": [
      "Você errou, o valor é maior\n"
     ]
    }
   ],
   "source": [
    "if numero == chute:\n",
    "    print(\"Você acertou!\")\n",
    "else:\n",
    "    diferenca = numero - chute\n",
    "    if diferenca > 0:\n",
    "        print(\"Você errou, o valor é maior\")\n",
    "    else:\n",
    "        print(\"Você errou, o valor é menor\")"
   ]
  },
  {
   "cell_type": "code",
   "execution_count": 11,
   "metadata": {
    "collapsed": false
   },
   "outputs": [
    {
     "name": "stdout",
     "output_type": "stream",
     "text": [
      "Você errou, o valor é menor\n"
     ]
    }
   ],
   "source": [
    "diferenca = numero - chute\n",
    "if diferenca == 0:\n",
    "    print(\"Você acertou!\")\n",
    "elif diferenca > 0:\n",
    "    print(\"Você errou, o valor é maior\")\n",
    "else:\n",
    "    print(\"Você errou, o valor é menor\")"
   ]
  },
  {
   "cell_type": "code",
   "execution_count": null,
   "metadata": {
    "collapsed": true
   },
   "outputs": [],
   "source": []
  }
 ],
 "metadata": {
  "kernelspec": {
   "display_name": "Python 3",
   "language": "python",
   "name": "python3"
  },
  "language_info": {
   "codemirror_mode": {
    "name": "ipython",
    "version": 3
   },
   "file_extension": ".py",
   "mimetype": "text/x-python",
   "name": "python",
   "nbconvert_exporter": "python",
   "pygments_lexer": "ipython3",
   "version": "3.5.1"
  }
 },
 "nbformat": 4,
 "nbformat_minor": 1
}
